{
  "nbformat": 4,
  "nbformat_minor": 0,
  "metadata": {
    "colab": {
      "provenance": [],
      "authorship_tag": "ABX9TyM1+RbnqaLxI3ZyvZ5PVCfA",
      "include_colab_link": true
    },
    "kernelspec": {
      "name": "python3",
      "display_name": "Python 3"
    },
    "language_info": {
      "name": "python"
    }
  },
  "cells": [
    {
      "cell_type": "markdown",
      "metadata": {
        "id": "view-in-github",
        "colab_type": "text"
      },
      "source": [
        "<a href=\"https://colab.research.google.com/github/grveni/py-practice-datascience/blob/main/UCIHeartDisease.ipynb\" target=\"_parent\"><img src=\"https://colab.research.google.com/assets/colab-badge.svg\" alt=\"Open In Colab\"/></a>"
      ]
    },
    {
      "cell_type": "markdown",
      "source": [
        "Classification Decision Trees in Detail in python.\n",
        "\n",
        "DataQuest: https://www.youtube.com/watch?v=q90UDEgYqeI\n",
        "\n",
        "UCI Repo for heart Disease.: https://archive.ics.uci.edu/dataset/45/heart+disease"
      ],
      "metadata": {
        "id": "vKdXAse5eYDx"
      }
    },
    {
      "cell_type": "code",
      "source": [
        "import pandas as pd\n",
        "import numpy as np\n",
        "import matplotlib.pyplot as plt\n",
        "import seaborn as sns"
      ],
      "metadata": {
        "id": "gB3nTbEhenqO"
      },
      "execution_count": null,
      "outputs": []
    }
  ]
}